{
 "cells": [
  {
   "cell_type": "code",
   "execution_count": 1,
   "metadata": {},
   "outputs": [],
   "source": [
    "%load_ext autoreload\n",
    "%autoreload 2"
   ]
  },
  {
   "cell_type": "code",
   "execution_count": 65,
   "metadata": {},
   "outputs": [],
   "source": [
    "import h5py\n",
    "import matplotlib.pyplot as plt\n",
    "from matplotlib import style\n",
    "import numpy as np\n",
    "import sys\n",
    "import tensorflow as tf\n",
    "\n",
    "sys.path.append('..')\n",
    "import VeryAccurateEmulator as VAE\n",
    "from training_tools import em_loss_fcn"
   ]
  },
  {
   "cell_type": "markdown",
   "metadata": {},
   "source": [
    "## Table 1"
   ]
  },
  {
   "cell_type": "code",
   "execution_count": 56,
   "metadata": {},
   "outputs": [],
   "source": [
    "best = VAE.VeryAccurateEmulator()"
   ]
  },
  {
   "cell_type": "code",
   "execution_count": 59,
   "metadata": {},
   "outputs": [
    {
     "name": "stdout",
     "output_type": "stream",
     "text": [
      "0.5371503\n",
      "0.49903005\n",
      "\n",
      "---------\n",
      "\n",
      "0.49636072\n",
      "0.4523543\n",
      "\n",
      "---------\n",
      "\n",
      "0.566506\n",
      "0.51802754\n",
      "\n",
      "---------\n",
      "\n",
      "0.9045284\n",
      "0.78751755\n",
      "\n",
      "---------\n",
      "\n",
      "0.70789945\n",
      "0.6475112\n",
      "\n",
      "---------\n",
      "\n"
     ]
    }
   ],
   "source": [
    "lb = best.compute_rms_error(relative=False, flow=50, fhigh=100)\n",
    "mb = best.compute_rms_error(relative=False, flow=60, fhigh=120)\n",
    "hb = best.compute_rms_error(relative=False, flow=90, fhigh=200)\n",
    "wb = best.compute_rms_error(relative=False, flow=50, fhigh=200)\n",
    "fb = best.compute_rms_error(relative=False)\n",
    "\n",
    "for b in [fb, lb, mb, hb, wb]:\n",
    "    print(b.mean())\n",
    "    print(np.median(b))\n",
    "    print('\\n---------\\n')"
   ]
  },
  {
   "cell_type": "markdown",
   "metadata": {},
   "source": [
    "## Figure 3"
   ]
  },
  {
   "cell_type": "code",
   "execution_count": 68,
   "metadata": {},
   "outputs": [
    {
     "data": {
      "image/png": "[encoded data removed]",
      "text/plain": [
       "<Figure size 720x504 with 1 Axes>"
      ]
     },
     "metadata": {
      "needs_background": "light"
     },
     "output_type": "display_data"
    }
   ],
   "source": [
    "style.use('tableau-colorblind10')\n",
    "error = best.compute_rms_error()\n",
    "plt.figure(figsize=(10,7))\n",
    "plt.hist(100*error, bins=50, color='C0')\n",
    "plt.axvline(100*np.median(error), label='Median (21cmVAE)', ls='-', color='C1')\n",
    "plt.axvline(100*np.mean(error), label='Mean (21cmVAE)', ls='-', color='C2')\n",
    "plt.axvline(100*np.percentile(error, 95), label='95th percentile (21cmVAE)', ls='-', color='C3')\n",
    "plt.axvline(100*0.0130, label='Median (21cmGEM)', ls='--', c='C1')\n",
    "plt.axvline(100*0.0159, label='Mean (21cmGEM)', ls='--', color='C2')\n",
    "plt.xlabel(\"Error (%)\", fontsize=16)\n",
    "plt.ylabel('Counts', fontsize=16)\n",
    "plt.legend(fontsize=14)\n",
    "plt.yticks(fontsize=14)\n",
    "plt.xticks(fontsize=14)\n",
    "plt.xlim(0., 1.9)\n",
    "#plt.savefig('hist.eps')\n",
    "plt.show()"
   ]
  },
  {
   "cell_type": "markdown",
   "metadata": {},
   "source": [
    "## Figure 4"
   ]
  },
  {
   "cell_type": "code",
   "execution_count": 70,
   "metadata": {},
   "outputs": [],
   "source": [
    "signal_test = best.signal_test\n",
    "predicted_signal = best.predict(best.par_test)"
   ]
  },
  {
   "cell_type": "code",
   "execution_count": 71,
   "metadata": {},
   "outputs": [],
   "source": [
    "def get_params_txt(percentile, mean=False, largest=False):\n",
    "    if percentile > 0:\n",
    "        p = par_test[error == np.percentile(error, percentile, interpolation='nearest')][0]\n",
    "    elif mean == True:\n",
    "        p = par_test[np.argmin(np.abs(error - np.mean(error)))]\n",
    "    else:\n",
    "        p = par_test[np.argmax(error)]\n",
    "  \n",
    "    s = 'Parameters:\\n'\n",
    "    for i, l in enumerate(par_labels):\n",
    "        if i == 1:\n",
    "            line = l + ' = {:.4f} km'.format(p[i])\n",
    "            line += r'$s^{-1}$'\n",
    "            line += '\\n'\n",
    "        elif i <=2:\n",
    "            line = l + ' = {:.4f} \\n'.format(p[i])\n",
    "        elif i == 5:\n",
    "            line = l + ' = {:.2f} keV\\n'.format(p[i])\n",
    "        elif i == 6:\n",
    "            line = l + ' = {:.2f} Mpc\\n'.format(p[i])    \n",
    "        else:\n",
    "            line = l + ' = {:.2f} \\n'.format(p[i])\n",
    "    s += line\n",
    "    return s"
   ]
  },
  {
   "cell_type": "code",
   "execution_count": null,
   "metadata": {},
   "outputs": [],
   "source": [
    "style.use('tableau-colorblind10')\n",
    "fig, axs = plt.subplots(2, 2, figsize=(15,10), sharex=True, sharey=True)\n",
    "axs[0, 0].plot(nu, signal_test[error == np.percentile(error, 10, interpolation='nearest')][0], label='True signal', color='C0')\n",
    "axs[0, 0].plot(nu, predicted_signal[error == np.percentile(error, 10, interpolation='nearest')][0], label='Predicted signal', ls='--', color='C1')\n",
    "axs[0, 0].set_title(\"10th percentile error = {:.2f}%\".format(100*np.percentile(error, 10, interpolation='nearest')), fontsize=16)\n",
    "#axs[0, 0].text(230, -200, 'a)', fontsize=14)\n",
    "axs[0, 0].text(170, -200, get_params_txt(10), bbox=dict(facecolor='white', alpha=.5), fontdict={'size'   : 14})\n",
    "\n",
    "# axs[1, 1].plot(nu, signal_test[error == np.percentile(error, 90, interpolation='nearest')][0], label='True signal')\n",
    "# axs[1, 1].plot(nu, predicted_signal[error == np.percentile(error, 90, interpolation='nearest')][0], label='Predicted signal', ls='--')\n",
    "axs[1, 0].set_title(\"95th percentile error = {:.2f}%\".format(100*np.percentile(error, 95, interpolation='nearest')), fontsize=16)\n",
    "axs[1, 0].plot(nu, signal_test[error == np.percentile(error, 95, interpolation='nearest')][0], label='True signal', color='C0')\n",
    "axs[1, 0].plot(nu, predicted_signal[error == np.percentile(error, 95, interpolation='nearest')][0], label='Predicted signal', ls='--', color='C1')\n",
    "#axs[1, 0].text(230, -200, 'c)', fontsize=14)\n",
    "axs[1, 0].text(170, -200, get_params_txt(95), bbox=dict(facecolor='white', alpha=.5), fontdict={'size'   : 14})\n",
    "axs[1, 1].plot(nu, signal_test[np.argmax(error)], label='True signal', color='C0')\n",
    "axs[1, 1].plot(nu, predicted_signal[np.argmax(error)], label='Predicted signal', ls='--', color='C1')\n",
    "#axs[1, 1].text(230, -200, 'd)', fontsize=14)\n",
    "axs[1, 1].text(170, -200, get_params_txt(0, largest=True), bbox=dict(facecolor='white', alpha=.5), fontdict={'size'   : 14})\n",
    "axs[1, 1].set_title(\"Largest error = {:.2f}%\".format(100*np.max(error)), fontsize=16)\n",
    "# axs[1, 0].plot(nu, signal_test[np.argmin(np.abs(error - np.mean(error)))], label='True signal')\n",
    "# axs[1, 0].plot(nu, predicted_signal[np.argmin(np.abs(error - np.mean(error)))], label='Predicted signal', ls='--')\n",
    "axs[0, 1].plot(nu, signal_test[error == np.percentile(error, 50, interpolation='nearest')][0], label='True signal', color='C0')\n",
    "axs[0, 1].plot(nu, predicted_signal[error == np.percentile(error, 50, interpolation='nearest')][0], label='Predicted signal', ls='--', color='C1')\n",
    "#axs[0, 1].text(230, -200, 'b)', fontsize=14)\n",
    "axs[0, 1].text(170, -200, get_params_txt(50), bbox=dict(facecolor='white', alpha=.5), fontdict={'size'   : 14})\n",
    "axs[0, 1].set_title(\"Median error = {:.2f}%\".format(100*np.percentile(error, 50, interpolation='nearest')), fontsize=16)\n",
    "\n",
    "for ax in axs.flat:\n",
    "    ax.set_xlabel(r'$\\nu$ [MHz]', fontsize=16)\n",
    "    ax.set_ylabel('T [mK]', fontsize=16)\n",
    "    for tick in ax.xaxis.get_major_ticks():\n",
    "      tick.label.set_fontsize(14)\n",
    "    for tick in ax.yaxis.get_major_ticks():\n",
    "      tick.label.set_fontsize(14)\n",
    "axs[1, 0].legend(loc='best', fontsize=14)\n",
    "\n",
    "# Hide x labels and tick labels for top plots and y ticks for right plots.\n",
    "for ax in axs.flat:\n",
    "    ax.label_outer()\n",
    "\n",
    "plt.tight_layout()\n",
    "plt.savefig('comparison.eps')\n",
    "\n",
    "plt.show()"
   ]
  },
  {
   "cell_type": "markdown",
   "metadata": {},
   "source": [
    "## Figure 6"
   ]
  },
  {
   "cell_type": "code",
   "execution_count": 29,
   "metadata": {},
   "outputs": [],
   "source": [
    "em_dist = np.load('nov8_manyems.npy') * 100\n",
    "ae_em_dist = np.load('nov8_manyaeems.npy') * 100\n",
    "\n",
    "mean_em = np.mean(em_dist, axis=1)\n",
    "mean_ae_em = np.mean(ae_em_dist, axis=1)\n",
    "\n",
    "median_em = np.median(em_dist, axis=1)\n",
    "median_ae_em = np.median(ae_em_dist, axis=1)"
   ]
  },
  {
   "cell_type": "code",
   "execution_count": 34,
   "metadata": {},
   "outputs": [
    {
     "data": {
      "image/png": "[encoded data removed]",
      "text/plain": [
       "<Figure size 720x504 with 1 Axes>"
      ]
     },
     "metadata": {
      "needs_background": "light"
     },
     "output_type": "display_data"
    }
   ],
   "source": [
    "plt.figure(figsize=(10, 7))\n",
    "plt.hist([mean_em, mean_ae_em], label=['21cmVAE', 'Autoencoder-based Emulator'], bins=40)\n",
    "plt.legend(fontsize=14)\n",
    "plt.xlabel('Mean Error [%]', fontsize=16)\n",
    "plt.ylabel('Number of Trials', fontsize=16)\n",
    "plt.xticks(fontsize=14)\n",
    "plt.yticks(fontsize=14)\n",
    "#plt.savefig('error_distribution.eps')\n",
    "plt.show()"
   ]
  },
  {
   "cell_type": "code",
   "execution_count": 31,
   "metadata": {},
   "outputs": [
    {
     "name": "stdout",
     "output_type": "stream",
     "text": [
      "0.35411484360274315\n",
      "0.0014842858661764477\n",
      "0.45290856571432736\n",
      "0.01333506094471459\n"
     ]
    }
   ],
   "source": [
    "print(np.mean(mean_em))\n",
    "print(np.std(mean_em)/np.sqrt(20))\n",
    "\n",
    "print(np.mean(mean_ae_em))\n",
    "print(np.std(mean_ae_em)/np.sqrt(20))"
   ]
  },
  {
   "cell_type": "code",
   "execution_count": 32,
   "metadata": {},
   "outputs": [
    {
     "name": "stdout",
     "output_type": "stream",
     "text": [
      "0.30488991760648787\n",
      "0.0014724734680355738\n",
      "0.39924324373714626\n",
      "0.011223751068959594\n"
     ]
    }
   ],
   "source": [
    "print(np.mean(median_em))\n",
    "print(np.std(median_em)/np.sqrt(20))\n",
    "\n",
    "print(np.mean(median_ae_em))\n",
    "print(np.std(median_ae_em)/np.sqrt(20))"
   ]
  },
  {
   "cell_type": "code",
   "execution_count": 33,
   "metadata": {},
   "outputs": [
    {
     "name": "stdout",
     "output_type": "stream",
     "text": [
      "0.3434216264501966\n",
      "0.29414279852062464\n",
      "0.3919982397887843\n",
      "0.3513658884912729\n"
     ]
    }
   ],
   "source": [
    "idx = mean_em.argmin()\n",
    "print(mean_em[idx])\n",
    "print(median_em[idx])\n",
    "\n",
    "idx2 = mean_ae_em.argmin()\n",
    "print(mean_ae_em[idx2])\n",
    "print(median_ae_em[idx2])"
   ]
  },
  {
   "cell_type": "markdown",
   "metadata": {},
   "source": [
    "## Figure 7"
   ]
  },
  {
   "cell_type": "code",
   "execution_count": 11,
   "metadata": {},
   "outputs": [],
   "source": [
    "with h5py.File('../dataset_21cmVAE.h5', 'r') as hf:\n",
    "    signal_train = hf['signal_train'][:]\n",
    "total_train_set = np.shape(signal_train)[0]"
   ]
  },
  {
   "cell_type": "code",
   "execution_count": 26,
   "metadata": {},
   "outputs": [],
   "source": [
    "loss = np.load('emulator_loss.npy')\n",
    "N_runs, runs_per_frac = loss.shape[:2]\n",
    "frac_values = np.arange(1, N_runs+1)/N_runs\n",
    "test_loss = loss[:, :, -1] * 100  # in %\n",
    "test_loss_avg = np.mean(test_loss, axis=1)\n",
    "test_loss_std = np.std(test_loss, axis=1)\n",
    "test_loss_err = test_loss_std/np.sqrt(runs_per_frac)"
   ]
  },
  {
   "cell_type": "code",
   "execution_count": 28,
   "metadata": {
    "scrolled": true
   },
   "outputs": [
    {
     "data": {
      "image/png": "[encoded data removed]",
      "text/plain": [
       "<Figure size 432x288 with 1 Axes>"
      ]
     },
     "metadata": {
      "needs_background": "light"
     },
     "output_type": "display_data"
    }
   ],
   "source": [
    "plt.figure()\n",
    "plt.errorbar(frac_values*total_train_set, test_loss_avg, yerr=test_loss_err, fmt='.', capsize=5)\n",
    "plt.xlabel('Number of signals in training set')\n",
    "plt.ylabel('Error')\n",
    "plt.ylim(0)\n",
    "plt.xlim(0)\n",
    "yt = np.arange(0, 4, 0.5)\n",
    "plt.yticks(yt, [str(t) + '%' for t in yt])\n",
    "plt.show()"
   ]
  }
 ],
 "metadata": {
  "kernelspec": {
   "display_name": "emulator_env",
   "language": "python",
   "name": "emulator_env"
  },
  "language_info": {
   "codemirror_mode": {
    "name": "ipython",
    "version": 3
   },
   "file_extension": ".py",
   "mimetype": "text/x-python",
   "name": "python",
   "nbconvert_exporter": "python",
   "pygments_lexer": "ipython3",
   "version": "3.8.5"
  }
 },
 "nbformat": 4,
 "nbformat_minor": 4
}
