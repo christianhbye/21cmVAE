{
 "cells": [
  {
   "cell_type": "markdown",
   "metadata": {},
   "source": [
    "This notebook shows an example of how to retrain 21cmVAE and the AuteoEncoder-based Emulator (from Appendix A)."
   ]
  },
  {
   "cell_type": "code",
   "execution_count": 1,
   "metadata": {},
   "outputs": [],
   "source": [
    "from matplotlib import pyplot as plt\n",
    "import tensorflow as tf\n",
    "import VeryAccurateEmulator as VAE"
   ]
  },
  {
   "cell_type": "markdown",
   "metadata": {},
   "source": [
    "## Training 21cmVAE"
   ]
  },
  {
   "cell_type": "code",
   "execution_count": 2,
   "metadata": {},
   "outputs": [
    {
     "name": "stdout",
     "output_type": "stream",
     "text": [
      "Model: \"emulator\"\n",
      "_________________________________________________________________\n",
      " Layer (type)                Output Shape              Param #   \n",
      "=================================================================\n",
      " dense (Dense)               (None, 288)               2304      \n",
      "                                                                 \n",
      " dense_1 (Dense)             (None, 352)               101728    \n",
      "                                                                 \n",
      " dense_2 (Dense)             (None, 288)               101664    \n",
      "                                                                 \n",
      " dense_3 (Dense)             (None, 224)               64736     \n",
      "                                                                 \n",
      " dense_4 (Dense)             (None, 451)               101475    \n",
      "                                                                 \n",
      "=================================================================\n",
      "Total params: 371,907\n",
      "Trainable params: 371,907\n",
      "Non-trainable params: 0\n",
      "_________________________________________________________________\n"
     ]
    },
    {
     "name": "stderr",
     "output_type": "stream",
     "text": [
      "2022-03-19 16:59:31.585940: E tensorflow/stream_executor/cuda/cuda_driver.cc:271] failed call to cuInit: CUDA_ERROR_NO_DEVICE: no CUDA-capable device is detected\n",
      "2022-03-19 16:59:31.586040: I tensorflow/stream_executor/cuda/cuda_diagnostics.cc:156] kernel driver does not appear to be running on this host (thinkpad-ubuntu): /proc/driver/nvidia/version does not exist\n",
      "2022-03-19 16:59:31.587571: I tensorflow/core/platform/cpu_feature_guard.cc:151] This TensorFlow binary is optimized with oneAPI Deep Neural Network Library (oneDNN) to use the following CPU instructions in performance-critical operations:  AVX2 AVX512F FMA\n",
      "To enable them in other operations, rebuild TensorFlow with the appropriate compiler flags.\n"
     ]
    }
   ],
   "source": [
    "emulator = VAE.emulator.DirectEmulator()\n",
    "emulator.emulator.summary()"
   ]
  },
  {
   "cell_type": "code",
   "execution_count": 3,
   "metadata": {},
   "outputs": [],
   "source": [
    "loss_fcn = VAE.emulator.relative_mse_loss(emulator.signal_train)  # loss function for training\n",
    "learning_rate = 0.01\n",
    "opt = tf.keras.optimizers.Adam(learning_rate)\n",
    "\n",
    "emulator.emulator.compile(optimizer=opt, loss=loss_fcn)"
   ]
  },
  {
   "cell_type": "code",
   "execution_count": 4,
   "metadata": {
    "scrolled": true
   },
   "outputs": [
    {
     "data": {
      "application/vnd.jupyter.widget-view+json": {
       "model_id": "ae16a6acf7254469b21aca7a7ba9e34a",
       "version_major": 2,
       "version_minor": 0
      },
      "text/plain": [
       "0epoch [00:00, ?epoch/s]"
      ]
     },
     "metadata": {},
     "output_type": "display_data"
    },
    {
     "data": {
      "application/vnd.jupyter.widget-view+json": {
       "model_id": "",
       "version_major": 2,
       "version_minor": 0
      },
      "text/plain": [
       "0batch [00:00, ?batch/s]"
      ]
     },
     "metadata": {},
     "output_type": "display_data"
    },
    {
     "name": "stdout",
     "output_type": "stream",
     "text": [
      "\n",
      "Epoch 46: ReduceLROnPlateau reducing learning rate to 0.009499999787658453.\n",
      "\n",
      "Epoch 52: ReduceLROnPlateau reducing learning rate to 0.009024999709799886.\n",
      "\n",
      "Epoch 61: ReduceLROnPlateau reducing learning rate to 0.008573750033974648.\n",
      "\n",
      "Epoch 66: ReduceLROnPlateau reducing learning rate to 0.008145062532275914.\n",
      "\n",
      "Epoch 72: ReduceLROnPlateau reducing learning rate to 0.0077378091402351854.\n",
      "\n",
      "Epoch 79: ReduceLROnPlateau reducing learning rate to 0.007350918860174715.\n",
      "\n",
      "Epoch 84: ReduceLROnPlateau reducing learning rate to 0.006983372895047068.\n",
      "\n",
      "Epoch 89: ReduceLROnPlateau reducing learning rate to 0.006634204206056892.\n",
      "\n",
      "Epoch 95: ReduceLROnPlateau reducing learning rate to 0.006302493973635137.\n",
      "\n",
      "Epoch 100: ReduceLROnPlateau reducing learning rate to 0.005987369385547936.\n",
      "\n",
      "Epoch 105: ReduceLROnPlateau reducing learning rate to 0.005688000982627272.\n",
      "\n",
      "Epoch 110: ReduceLROnPlateau reducing learning rate to 0.005403600889258086.\n",
      "\n",
      "Epoch 115: ReduceLROnPlateau reducing learning rate to 0.005133421043865383.\n",
      "\n",
      "Epoch 124: ReduceLROnPlateau reducing learning rate to 0.004876750102266669.\n",
      "\n",
      "Epoch 129: ReduceLROnPlateau reducing learning rate to 0.004632912552915513.\n",
      "\n",
      "Epoch 134: ReduceLROnPlateau reducing learning rate to 0.0044012669473886485.\n",
      "\n",
      "Epoch 139: ReduceLROnPlateau reducing learning rate to 0.004181203688494861.\n",
      "\n",
      "Epoch 144: ReduceLROnPlateau reducing learning rate to 0.003972143703140319.\n",
      "\n",
      "Epoch 149: ReduceLROnPlateau reducing learning rate to 0.0037735366728156804.\n",
      "\n",
      "Epoch 154: ReduceLROnPlateau reducing learning rate to 0.0035848599276505407.\n",
      "\n",
      "Epoch 159: ReduceLROnPlateau reducing learning rate to 0.003405616898089647.\n",
      "\n",
      "Epoch 164: ReduceLROnPlateau reducing learning rate to 0.0032353360089473425.\n",
      "\n",
      "Epoch 169: ReduceLROnPlateau reducing learning rate to 0.003073569131083786.\n",
      "\n",
      "Epoch 174: ReduceLROnPlateau reducing learning rate to 0.002919890696648508.\n",
      "\n",
      "Epoch 179: ReduceLROnPlateau reducing learning rate to 0.0027738961507566273.\n",
      "\n",
      "Epoch 184: ReduceLROnPlateau reducing learning rate to 0.002635201287921518.\n",
      "\n",
      "Epoch 192: ReduceLROnPlateau reducing learning rate to 0.002503441146109253.\n",
      "\n",
      "Epoch 197: ReduceLROnPlateau reducing learning rate to 0.002378269121982157.\n",
      "\n",
      "Epoch 202: ReduceLROnPlateau reducing learning rate to 0.002259355643764138.\n",
      "\n",
      "Epoch 207: ReduceLROnPlateau reducing learning rate to 0.0021463879500515756.\n",
      "\n",
      "Epoch 212: ReduceLROnPlateau reducing learning rate to 0.0020390685414895414.\n",
      "\n",
      "Epoch 217: ReduceLROnPlateau reducing learning rate to 0.0019371151807717978.\n",
      "\n",
      "Epoch 222: ReduceLROnPlateau reducing learning rate to 0.0018402594549115747.\n",
      "\n",
      "Epoch 227: ReduceLROnPlateau reducing learning rate to 0.0017482464434579014.\n",
      "\n",
      "Epoch 232: ReduceLROnPlateau reducing learning rate to 0.0016608341655228287.\n",
      "\n",
      "Epoch 237: ReduceLROnPlateau reducing learning rate to 0.0015777924738358705.\n",
      "\n",
      "Epoch 242: ReduceLROnPlateau reducing learning rate to 0.0014989028335548936.\n",
      "\n",
      "Epoch 247: ReduceLROnPlateau reducing learning rate to 0.0014239576586987822.\n",
      "\n",
      "Epoch 252: ReduceLROnPlateau reducing learning rate to 0.0013527597591746598.\n",
      "\n",
      "Epoch 257: ReduceLROnPlateau reducing learning rate to 0.0012851217878051102.\n",
      "\n",
      "Epoch 262: ReduceLROnPlateau reducing learning rate to 0.0012208656873553992.\n",
      "\n",
      "Epoch 267: ReduceLROnPlateau reducing learning rate to 0.0011598223587498068.\n",
      "\n",
      "Epoch 272: ReduceLROnPlateau reducing learning rate to 0.0011018312186934053.\n",
      "\n",
      "Epoch 277: ReduceLROnPlateau reducing learning rate to 0.0010467396466992795.\n",
      "\n",
      "Epoch 282: ReduceLROnPlateau reducing learning rate to 0.00099440265330486.\n",
      "\n",
      "Epoch 287: ReduceLROnPlateau reducing learning rate to 0.0009446825482882559.\n",
      "\n",
      "Epoch 292: ReduceLROnPlateau reducing learning rate to 0.0008974484429927543.\n",
      "\n",
      "Epoch 297: ReduceLROnPlateau reducing learning rate to 0.0008525760291377082.\n",
      "\n",
      "Epoch 302: ReduceLROnPlateau reducing learning rate to 0.0008099472470348701.\n",
      "\n",
      "Epoch 307: ReduceLROnPlateau reducing learning rate to 0.000769449898507446.\n",
      "\n",
      "Epoch 312: ReduceLROnPlateau reducing learning rate to 0.0007309774257009848.\n",
      "\n",
      "Epoch 317: ReduceLROnPlateau reducing learning rate to 0.0006944285792997107.\n",
      "\n",
      "Epoch 322: ReduceLROnPlateau reducing learning rate to 0.0006597071420401335.\n",
      "\n",
      "Epoch 327: ReduceLROnPlateau reducing learning rate to 0.0006267217628192157.\n",
      "Restoring model weights from the end of the best epoch: 314.\n",
      "Epoch 329: early stopping\n"
     ]
    }
   ],
   "source": [
    "# define callbacks (optional)\n",
    "early_stopping = tf.keras.callbacks.EarlyStopping(\n",
    "    monitor=\"val_loss\", patience=15, min_delta=1e-10, restore_best_weights=True, verbose=1\n",
    ")\n",
    "reduce_lr = tf.keras.callbacks.ReduceLROnPlateau(\n",
    "    monitor=\"val_loss\", patience=5, factor=0.95, verbose=1, min_delta=5e-9, min_lr=1e-4\n",
    ")\n",
    "\n",
    "cb = [early_stopping, reduce_lr]\n",
    "\n",
    "# train\n",
    "train_loss, val_loss = emulator.train(epochs=350, callbacks=cb)"
   ]
  },
  {
   "cell_type": "code",
   "execution_count": 5,
   "metadata": {},
   "outputs": [
    {
     "data": {
      "image/png": "[encoded data removed]",
      "text/plain": [
       "<Figure size 432x288 with 1 Axes>"
      ]
     },
     "metadata": {
      "needs_background": "light"
     },
     "output_type": "display_data"
    }
   ],
   "source": [
    "fig = plt.figure()\n",
    "ax = fig.add_axes([0., 0., 1., 1.])\n",
    "ax.plot(train_loss, label='Training')\n",
    "ax.plot(val_loss, label='Validation')\n",
    "ax.legend()\n",
    "ax.set_xlabel('Epoch')\n",
    "ax.set_ylabel('Loss')\n",
    "ax.set_yscale('log')\n",
    "plt.show()"
   ]
  },
  {
   "cell_type": "code",
   "execution_count": 6,
   "metadata": {},
   "outputs": [
    {
     "name": "stdout",
     "output_type": "stream",
     "text": [
      "0.3466905\n"
     ]
    }
   ],
   "source": [
    "rmse = emulator.test_error()\n",
    "print(rmse.mean())"
   ]
  },
  {
   "cell_type": "markdown",
   "metadata": {},
   "source": [
    "## Training the Autoencoder-based Emulator"
   ]
  },
  {
   "cell_type": "code",
   "execution_count": 7,
   "metadata": {
    "scrolled": true
   },
   "outputs": [
    {
     "name": "stdout",
     "output_type": "stream",
     "text": [
      "Model: \"ae_emualtor\"\n",
      "_________________________________________________________________\n",
      " Layer (type)                Output Shape              Param #   \n",
      "=================================================================\n",
      " dense_10 (Dense)            (None, 352)               2816      \n",
      "                                                                 \n",
      " dense_11 (Dense)            (None, 352)               124256    \n",
      "                                                                 \n",
      " dense_12 (Dense)            (None, 352)               124256    \n",
      "                                                                 \n",
      " dense_13 (Dense)            (None, 224)               79072     \n",
      "                                                                 \n",
      " dense_14 (Dense)            (None, 9)                 2025      \n",
      "                                                                 \n",
      "=================================================================\n",
      "Total params: 332,425\n",
      "Trainable params: 332,425\n",
      "Non-trainable params: 0\n",
      "_________________________________________________________________\n",
      "Model: \"auto_encoder\"\n",
      "_________________________________________________________________\n",
      " Layer (type)                Output Shape              Param #   \n",
      "=================================================================\n",
      " encoder (Sequential)        (None, 9)                 162281    \n",
      "                                                                 \n",
      " decoder (Sequential)        (1704, 451)               171139    \n",
      "                                                                 \n",
      "=================================================================\n",
      "Total params: 333,420\n",
      "Trainable params: 333,420\n",
      "Non-trainable params: 0\n",
      "_________________________________________________________________\n",
      "Model: \"encoder\"\n",
      "_________________________________________________________________\n",
      " Layer (type)                Output Shape              Param #   \n",
      "=================================================================\n",
      " dense_5 (Dense)             (None, 352)               159104    \n",
      "                                                                 \n",
      " dense_6 (Dense)             (None, 9)                 3177      \n",
      "                                                                 \n",
      "=================================================================\n",
      "Total params: 162,281\n",
      "Trainable params: 162,281\n",
      "Non-trainable params: 0\n",
      "_________________________________________________________________\n",
      "Model: \"decoder\"\n",
      "_________________________________________________________________\n",
      " Layer (type)                Output Shape              Param #   \n",
      "=================================================================\n",
      " dense_7 (Dense)             (1704, 32)                320       \n",
      "                                                                 \n",
      " dense_8 (Dense)             (1704, 352)               11616     \n",
      "                                                                 \n",
      " dense_9 (Dense)             (1704, 451)               159203    \n",
      "                                                                 \n",
      "=================================================================\n",
      "Total params: 171,139\n",
      "Trainable params: 171,139\n",
      "Non-trainable params: 0\n",
      "_________________________________________________________________\n"
     ]
    }
   ],
   "source": [
    "ae_em = VAE.emulator.AutoEncoderEmulator()\n",
    "ae_em.emulator.summary()\n",
    "ae_em.autoencoder.summary()\n",
    "ae_em.autoencoder.encoder.summary()\n",
    "ae_em.autoencoder.decoder.summary()"
   ]
  },
  {
   "cell_type": "code",
   "execution_count": 8,
   "metadata": {
    "scrolled": true
   },
   "outputs": [],
   "source": [
    "learning_rate = 0.01\n",
    "opt = tf.keras.optimizers.Adam(learning_rate)\n",
    "\n",
    "ae_loss_fcn = VAE.emulator.relative_mse_loss(ae_em.signal_train)  # loss function for training\n",
    "em_loss_fcn = tf.keras.metrics.mean_squared_error\n",
    "\n",
    "ae_em.autoencoder.compile(optimizer=opt, loss=ae_loss_fcn)\n",
    "ae_em.emulator.compile(optimizer=opt, loss=em_loss_fcn)"
   ]
  },
  {
   "cell_type": "code",
   "execution_count": 9,
   "metadata": {
    "scrolled": true
   },
   "outputs": [
    {
     "data": {
      "application/vnd.jupyter.widget-view+json": {
       "model_id": "7c6ae31e1690499ba9a28c62676cb3ff",
       "version_major": 2,
       "version_minor": 0
      },
      "text/plain": [
       "0epoch [00:00, ?epoch/s]"
      ]
     },
     "metadata": {},
     "output_type": "display_data"
    },
    {
     "data": {
      "application/vnd.jupyter.widget-view+json": {
       "model_id": "",
       "version_major": 2,
       "version_minor": 0
      },
      "text/plain": [
       "0batch [00:00, ?batch/s]"
      ]
     },
     "metadata": {},
     "output_type": "display_data"
    },
    {
     "data": {
      "application/vnd.jupyter.widget-view+json": {
       "model_id": "d926c699ce9d45bcbf54df7e7499a1fa",
       "version_major": 2,
       "version_minor": 0
      },
      "text/plain": [
       "0epoch [00:00, ?epoch/s]"
      ]
     },
     "metadata": {},
     "output_type": "display_data"
    },
    {
     "data": {
      "application/vnd.jupyter.widget-view+json": {
       "model_id": "",
       "version_major": 2,
       "version_minor": 0
      },
      "text/plain": [
       "0batch [00:00, ?batch/s]"
      ]
     },
     "metadata": {},
     "output_type": "display_data"
    },
    {
     "name": "stdout",
     "output_type": "stream",
     "text": [
      "\n",
      "Epoch 33: ReduceLROnPlateau reducing learning rate to 0.008999999798834325.\n",
      "\n",
      "Epoch 39: ReduceLROnPlateau reducing learning rate to 0.008099999651312828.\n",
      "\n",
      "Epoch 45: ReduceLROnPlateau reducing learning rate to 0.007289999350905419.\n",
      "\n",
      "Epoch 53: ReduceLROnPlateau reducing learning rate to 0.006560999248176813.\n",
      "\n",
      "Epoch 58: ReduceLROnPlateau reducing learning rate to 0.005904899490997195.\n",
      "\n",
      "Epoch 63: ReduceLROnPlateau reducing learning rate to 0.00531440949998796.\n",
      "\n",
      "Epoch 73: ReduceLROnPlateau reducing learning rate to 0.004782968759536744.\n",
      "\n",
      "Epoch 78: ReduceLROnPlateau reducing learning rate to 0.0043046717997640375.\n",
      "\n",
      "Epoch 83: ReduceLROnPlateau reducing learning rate to 0.0038742044940590858.\n",
      "\n",
      "Epoch 88: ReduceLROnPlateau reducing learning rate to 0.003486784128472209.\n",
      "\n",
      "Epoch 93: ReduceLROnPlateau reducing learning rate to 0.003138105757534504.\n",
      "\n",
      "Epoch 98: ReduceLROnPlateau reducing learning rate to 0.0028242952656000854.\n",
      "\n",
      "Epoch 103: ReduceLROnPlateau reducing learning rate to 0.0025418657809495927.\n",
      "\n",
      "Epoch 108: ReduceLROnPlateau reducing learning rate to 0.0022876791190356016.\n",
      "\n",
      "Epoch 113: ReduceLROnPlateau reducing learning rate to 0.0020589112071320416.\n",
      "\n",
      "Epoch 118: ReduceLROnPlateau reducing learning rate to 0.0018530200235545636.\n",
      "\n",
      "Epoch 123: ReduceLROnPlateau reducing learning rate to 0.0016677180421538651.\n",
      "\n",
      "Epoch 132: ReduceLROnPlateau reducing learning rate to 0.0015009462484158575.\n",
      "\n",
      "Epoch 137: ReduceLROnPlateau reducing learning rate to 0.0013508516130968928.\n",
      "\n",
      "Epoch 142: ReduceLROnPlateau reducing learning rate to 0.0012157664517872036.\n",
      "\n",
      "Epoch 147: ReduceLROnPlateau reducing learning rate to 0.0010941897751763463.\n",
      "Restoring model weights from the end of the best epoch: 135.\n",
      "Epoch 150: early stopping\n",
      "\n",
      "Epoch 19: ReduceLROnPlateau reducing learning rate to 0.0009847708395682275.\n",
      "\n",
      "Epoch 26: ReduceLROnPlateau reducing learning rate to 0.0008862937451340258.\n",
      "\n",
      "Epoch 31: ReduceLROnPlateau reducing learning rate to 0.0007976643915753812.\n",
      "\n",
      "Epoch 36: ReduceLROnPlateau reducing learning rate to 0.0007178979576565325.\n",
      "\n",
      "Epoch 41: ReduceLROnPlateau reducing learning rate to 0.0006461081618908793.\n",
      "\n",
      "Epoch 46: ReduceLROnPlateau reducing learning rate to 0.0005814973614178598.\n",
      "\n",
      "Epoch 52: ReduceLROnPlateau reducing learning rate to 0.0005233476462308317.\n",
      "\n",
      "Epoch 57: ReduceLROnPlateau reducing learning rate to 0.0004710128763690591.\n",
      "\n",
      "Epoch 62: ReduceLROnPlateau reducing learning rate to 0.0004239115834934637.\n",
      "\n",
      "Epoch 67: ReduceLROnPlateau reducing learning rate to 0.0003815204225247726.\n",
      "\n",
      "Epoch 72: ReduceLROnPlateau reducing learning rate to 0.0003433683828916401.\n",
      "\n",
      "Epoch 77: ReduceLROnPlateau reducing learning rate to 0.0003090315498411656.\n",
      "\n",
      "Epoch 82: ReduceLROnPlateau reducing learning rate to 0.00027812838961835954.\n",
      "\n",
      "Epoch 87: ReduceLROnPlateau reducing learning rate to 0.00025031555851455777.\n",
      "\n",
      "Epoch 92: ReduceLROnPlateau reducing learning rate to 0.00022528400004375725.\n",
      "\n",
      "Epoch 97: ReduceLROnPlateau reducing learning rate to 0.000202755605278071.\n",
      "\n",
      "Epoch 102: ReduceLROnPlateau reducing learning rate to 0.00018248004344059154.\n",
      "\n",
      "Epoch 107: ReduceLROnPlateau reducing learning rate to 0.00016423203778686004.\n",
      "\n",
      "Epoch 112: ReduceLROnPlateau reducing learning rate to 0.00014780883793719113.\n",
      "\n",
      "Epoch 117: ReduceLROnPlateau reducing learning rate to 0.00013302795414347202.\n",
      "\n",
      "Epoch 122: ReduceLROnPlateau reducing learning rate to 0.00011972515349043534.\n",
      "\n",
      "Epoch 127: ReduceLROnPlateau reducing learning rate to 0.00010775263945106417.\n",
      "\n",
      "Epoch 132: ReduceLROnPlateau reducing learning rate to 0.0001.\n",
      "Restoring model weights from the end of the best epoch: 129.\n",
      "Epoch 144: early stopping\n"
     ]
    }
   ],
   "source": [
    "# define callbacks (optional)\n",
    "early_stopping = tf.keras.callbacks.EarlyStopping(\n",
    "    monitor=\"val_loss\", patience=15, min_delta=5e-10, restore_best_weights=True, verbose=1\n",
    ")\n",
    "reduce_lr = tf.keras.callbacks.ReduceLROnPlateau(\n",
    "    monitor=\"val_loss\", patience=5, factor=0.9, verbose=1, min_delta=5e-9, min_lr=1e-4\n",
    ")\n",
    "ae_cb = [early_stopping, reduce_lr]\n",
    "\n",
    "early_stopping = tf.keras.callbacks.EarlyStopping(\n",
    "    monitor=\"val_loss\", patience=15, min_delta=5e-5, restore_best_weights=True, verbose=1\n",
    ")\n",
    "reduce_lr = tf.keras.callbacks.ReduceLROnPlateau(\n",
    "    monitor=\"val_loss\", patience=5, factor=0.9, verbose=1, min_delta=5e-3, min_lr=1e-4\n",
    ")\n",
    "em_cb = [early_stopping, reduce_lr]\n",
    "\n",
    "# train\n",
    "ae_loss, ae_val_loss, em_loss, em_val_loss = ae_em.train(epochs=350, ae_callbacks=ae_cb, em_callbacks=em_cb)"
   ]
  },
  {
   "cell_type": "code",
   "execution_count": 10,
   "metadata": {},
   "outputs": [
    {
     "data": {
      "image/png": "[encoded data removed]",
      "text/plain": [
       "<Figure size 432x288 with 2 Axes>"
      ]
     },
     "metadata": {
      "needs_background": "light"
     },
     "output_type": "display_data"
    }
   ],
   "source": [
    "fig = plt.figure()\n",
    "ax1 = fig.add_axes([0., 0., 1., 1.])\n",
    "ax1.plot(ae_loss, label='Training')\n",
    "ax1.plot(ae_val_loss, label='Validation')\n",
    "ax1.legend()\n",
    "ax1.set_title('AutoEncoder')\n",
    "ax1.set_ylabel('Loss')\n",
    "ax2 = fig.add_axes([1.1, 0., 1., 1.])\n",
    "ax2.plot(em_loss, label='Training')\n",
    "ax2.plot(em_val_loss, label='Validation')\n",
    "ax2.legend()\n",
    "ax2.set_title('Emulator')\n",
    "plt.setp([ax1, ax2], xlabel='Epoch', yscale='log')\n",
    "plt.show()"
   ]
  },
  {
   "cell_type": "code",
   "execution_count": 11,
   "metadata": {},
   "outputs": [
    {
     "name": "stdout",
     "output_type": "stream",
     "text": [
      "0.45319167\n"
     ]
    }
   ],
   "source": [
    "rmse = ae_em.test_error()\n",
    "print(rmse.mean())"
   ]
  }
 ],
 "metadata": {
  "kernelspec": {
   "display_name": "Python 3 (ipykernel)",
   "language": "python",
   "name": "python3"
  },
  "language_info": {
   "codemirror_mode": {
    "name": "ipython",
    "version": 3
   },
   "file_extension": ".py",
   "mimetype": "text/x-python",
   "name": "python",
   "nbconvert_exporter": "python",
   "pygments_lexer": "ipython3",
   "version": "3.8.10"
  }
 },
 "nbformat": 4,
 "nbformat_minor": 4
}
