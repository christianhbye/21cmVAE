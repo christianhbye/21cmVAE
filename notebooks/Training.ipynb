{
 "cells": [
  {
   "cell_type": "markdown",
   "metadata": {},
   "source": [
    "This notebook shows an example of how to retrain 21cmVAE and the AuteoEncoder-based Emulator (from Appendix A)."
   ]
  },
  {
   "cell_type": "code",
   "execution_count": 1,
   "metadata": {},
   "outputs": [],
   "source": [
    "from matplotlib import pyplot as plt\n",
    "import tensorflow as tf\n",
    "import VeryAccurateEmulator as VAE"
   ]
  },
  {
   "cell_type": "markdown",
   "metadata": {},
   "source": [
    "## Training 21cmVAE"
   ]
  },
  {
   "cell_type": "code",
   "execution_count": 2,
   "metadata": {},
   "outputs": [
    {
     "name": "stdout",
     "output_type": "stream",
     "text": [
      "Model: \"emulator\"\n",
      "_________________________________________________________________\n",
      " Layer (type)                Output Shape              Param #   \n",
      "=================================================================\n",
      " dense (Dense)               (None, 288)               2304      \n",
      "                                                                 \n",
      " dense_1 (Dense)             (None, 352)               101728    \n",
      "                                                                 \n",
      " dense_2 (Dense)             (None, 288)               101664    \n",
      "                                                                 \n",
      " dense_3 (Dense)             (None, 224)               64736     \n",
      "                                                                 \n",
      " dense_4 (Dense)             (None, 451)               101475    \n",
      "                                                                 \n",
      "=================================================================\n",
      "Total params: 371,907\n",
      "Trainable params: 371,907\n",
      "Non-trainable params: 0\n",
      "_________________________________________________________________\n"
     ]
    },
    {
     "name": "stderr",
     "output_type": "stream",
     "text": [
      "2022-03-19 13:59:22.584700: E tensorflow/stream_executor/cuda/cuda_driver.cc:271] failed call to cuInit: CUDA_ERROR_NO_DEVICE: no CUDA-capable device is detected\n",
      "2022-03-19 13:59:22.584777: I tensorflow/stream_executor/cuda/cuda_diagnostics.cc:156] kernel driver does not appear to be running on this host (thinkpad-ubuntu): /proc/driver/nvidia/version does not exist\n",
      "2022-03-19 13:59:22.586655: I tensorflow/core/platform/cpu_feature_guard.cc:151] This TensorFlow binary is optimized with oneAPI Deep Neural Network Library (oneDNN) to use the following CPU instructions in performance-critical operations:  AVX2 AVX512F FMA\n",
      "To enable them in other operations, rebuild TensorFlow with the appropriate compiler flags.\n"
     ]
    }
   ],
   "source": [
    "emulator = VAE.emulator.DirectEmulator()\n",
    "emulator.emulator.summary()"
   ]
  },
  {
   "cell_type": "code",
   "execution_count": 3,
   "metadata": {},
   "outputs": [],
   "source": [
    "loss_fcn = VAE.emulator.relative_mse_loss(emulator.signal_train)  # loss function for training\n",
    "learning_rate = 0.01\n",
    "opt = tf.keras.optimizers.Adam(learning_rate)\n",
    "\n",
    "emulator.emulator.compile(optimizer=opt, loss=loss_fcn)"
   ]
  },
  {
   "cell_type": "code",
   "execution_count": 4,
   "metadata": {
    "scrolled": true
   },
   "outputs": [
    {
     "data": {
      "application/vnd.jupyter.widget-view+json": {
       "model_id": "95dafd27eb38427ca12ac2c2e6dbee8d",
       "version_major": 2,
       "version_minor": 0
      },
      "text/plain": [
       "0epoch [00:00, ?epoch/s]"
      ]
     },
     "metadata": {},
     "output_type": "display_data"
    },
    {
     "data": {
      "application/vnd.jupyter.widget-view+json": {
       "model_id": "",
       "version_major": 2,
       "version_minor": 0
      },
      "text/plain": [
       "0batch [00:00, ?batch/s]"
      ]
     },
     "metadata": {},
     "output_type": "display_data"
    },
    {
     "name": "stdout",
     "output_type": "stream",
     "text": [
      "\n",
      "Epoch 38: ReduceLROnPlateau reducing learning rate to 0.009499999787658453.\n",
      "\n",
      "Epoch 54: ReduceLROnPlateau reducing learning rate to 0.009024999709799886.\n",
      "\n",
      "Epoch 66: ReduceLROnPlateau reducing learning rate to 0.008573750033974648.\n",
      "\n",
      "Epoch 71: ReduceLROnPlateau reducing learning rate to 0.008145062532275914.\n",
      "\n",
      "Epoch 79: ReduceLROnPlateau reducing learning rate to 0.0077378091402351854.\n",
      "\n",
      "Epoch 84: ReduceLROnPlateau reducing learning rate to 0.007350918860174715.\n",
      "\n",
      "Epoch 92: ReduceLROnPlateau reducing learning rate to 0.006983372895047068.\n",
      "\n",
      "Epoch 97: ReduceLROnPlateau reducing learning rate to 0.006634204206056892.\n",
      "\n",
      "Epoch 102: ReduceLROnPlateau reducing learning rate to 0.006302493973635137.\n",
      "\n",
      "Epoch 107: ReduceLROnPlateau reducing learning rate to 0.005987369385547936.\n",
      "\n",
      "Epoch 115: ReduceLROnPlateau reducing learning rate to 0.005688000982627272.\n",
      "\n",
      "Epoch 120: ReduceLROnPlateau reducing learning rate to 0.005403600889258086.\n",
      "\n",
      "Epoch 125: ReduceLROnPlateau reducing learning rate to 0.005133421043865383.\n",
      "\n",
      "Epoch 130: ReduceLROnPlateau reducing learning rate to 0.004876750102266669.\n",
      "\n",
      "Epoch 135: ReduceLROnPlateau reducing learning rate to 0.004632912552915513.\n",
      "\n",
      "Epoch 140: ReduceLROnPlateau reducing learning rate to 0.0044012669473886485.\n",
      "\n",
      "Epoch 145: ReduceLROnPlateau reducing learning rate to 0.004181203688494861.\n",
      "\n",
      "Epoch 155: ReduceLROnPlateau reducing learning rate to 0.003972143703140319.\n",
      "\n",
      "Epoch 160: ReduceLROnPlateau reducing learning rate to 0.0037735366728156804.\n",
      "\n",
      "Epoch 165: ReduceLROnPlateau reducing learning rate to 0.0035848599276505407.\n",
      "\n",
      "Epoch 170: ReduceLROnPlateau reducing learning rate to 0.003405616898089647.\n",
      "\n",
      "Epoch 175: ReduceLROnPlateau reducing learning rate to 0.0032353360089473425.\n",
      "\n",
      "Epoch 180: ReduceLROnPlateau reducing learning rate to 0.003073569131083786.\n",
      "\n",
      "Epoch 185: ReduceLROnPlateau reducing learning rate to 0.002919890696648508.\n",
      "\n",
      "Epoch 190: ReduceLROnPlateau reducing learning rate to 0.0027738961507566273.\n",
      "\n",
      "Epoch 195: ReduceLROnPlateau reducing learning rate to 0.002635201287921518.\n",
      "\n",
      "Epoch 200: ReduceLROnPlateau reducing learning rate to 0.002503441146109253.\n",
      "\n",
      "Epoch 205: ReduceLROnPlateau reducing learning rate to 0.002378269121982157.\n",
      "\n",
      "Epoch 210: ReduceLROnPlateau reducing learning rate to 0.002259355643764138.\n",
      "\n",
      "Epoch 215: ReduceLROnPlateau reducing learning rate to 0.0021463879500515756.\n",
      "\n",
      "Epoch 220: ReduceLROnPlateau reducing learning rate to 0.0020390685414895414.\n",
      "\n",
      "Epoch 225: ReduceLROnPlateau reducing learning rate to 0.0019371151807717978.\n",
      "\n",
      "Epoch 230: ReduceLROnPlateau reducing learning rate to 0.0018402594549115747.\n",
      "\n",
      "Epoch 235: ReduceLROnPlateau reducing learning rate to 0.0017482464434579014.\n",
      "\n",
      "Epoch 240: ReduceLROnPlateau reducing learning rate to 0.0016608341655228287.\n",
      "\n",
      "Epoch 245: ReduceLROnPlateau reducing learning rate to 0.0015777924738358705.\n",
      "\n",
      "Epoch 250: ReduceLROnPlateau reducing learning rate to 0.0014989028335548936.\n",
      "\n",
      "Epoch 255: ReduceLROnPlateau reducing learning rate to 0.0014239576586987822.\n",
      "\n",
      "Epoch 260: ReduceLROnPlateau reducing learning rate to 0.0013527597591746598.\n",
      "\n",
      "Epoch 265: ReduceLROnPlateau reducing learning rate to 0.0012851217878051102.\n",
      "\n",
      "Epoch 270: ReduceLROnPlateau reducing learning rate to 0.0012208656873553992.\n",
      "\n",
      "Epoch 275: ReduceLROnPlateau reducing learning rate to 0.0011598223587498068.\n",
      "\n",
      "Epoch 280: ReduceLROnPlateau reducing learning rate to 0.0011018312186934053.\n",
      "\n",
      "Epoch 285: ReduceLROnPlateau reducing learning rate to 0.0010467396466992795.\n",
      "\n",
      "Epoch 290: ReduceLROnPlateau reducing learning rate to 0.00099440265330486.\n",
      "\n",
      "Epoch 295: ReduceLROnPlateau reducing learning rate to 0.0009446825482882559.\n",
      "\n",
      "Epoch 300: ReduceLROnPlateau reducing learning rate to 0.0008974484429927543.\n",
      "\n",
      "Epoch 305: ReduceLROnPlateau reducing learning rate to 0.0008525760291377082.\n",
      "\n",
      "Epoch 310: ReduceLROnPlateau reducing learning rate to 0.0008099472470348701.\n",
      "\n",
      "Epoch 315: ReduceLROnPlateau reducing learning rate to 0.000769449898507446.\n",
      "\n",
      "Epoch 320: ReduceLROnPlateau reducing learning rate to 0.0007309774257009848.\n",
      "\n",
      "Epoch 325: ReduceLROnPlateau reducing learning rate to 0.0006944285792997107.\n",
      "\n",
      "Epoch 330: ReduceLROnPlateau reducing learning rate to 0.0006597071420401335.\n",
      "Epoch 334: early stopping\n"
     ]
    }
   ],
   "source": [
    "# define callbacks (optional)\n",
    "early_stopping = tf.keras.callbacks.EarlyStopping(monitor=\"val_loss\", patience=15, min_delta=1e-10, verbose=1)\n",
    "reduce_lr = tf.keras.callbacks.ReduceLROnPlateau(\n",
    "    monitor=\"val_loss\", patience=5, factor=0.95, verbose=1, min_delta=5e-9, min_lr=1e-4\n",
    ")\n",
    "\n",
    "cb = [early_stopping, reduce_lr]\n",
    "\n",
    "# train\n",
    "train_loss, val_loss = emulator.train(epochs=350, callbacks=cb)"
   ]
  },
  {
   "cell_type": "code",
   "execution_count": 5,
   "metadata": {},
   "outputs": [
    {
     "data": {
      "image/png": "[encoded data removed]",
      "text/plain": [
       "<Figure size 432x288 with 1 Axes>"
      ]
     },
     "metadata": {
      "needs_background": "light"
     },
     "output_type": "display_data"
    }
   ],
   "source": [
    "fig = plt.figure()\n",
    "ax = fig.add_axes([0., 0., 1., 1.])\n",
    "ax.plot(train_loss, label='Training')\n",
    "ax.plot(val_loss, label='Validation')\n",
    "ax.legend()\n",
    "ax.set_xlabel('Epoch')\n",
    "ax.set_ylabel('Loss')\n",
    "ax.set_yscale('log')\n",
    "plt.show()"
   ]
  },
  {
   "cell_type": "code",
   "execution_count": 7,
   "metadata": {},
   "outputs": [
    {
     "name": "stdout",
     "output_type": "stream",
     "text": [
      "0.34434995\n"
     ]
    }
   ],
   "source": [
    "rmse = emulator.test_error()\n",
    "print(rmse.mean())"
   ]
  },
  {
   "cell_type": "markdown",
   "metadata": {},
   "source": [
    "## Training the Autoencoder-based Emulator"
   ]
  },
  {
   "cell_type": "code",
   "execution_count": 14,
   "metadata": {
    "scrolled": true
   },
   "outputs": [
    {
     "name": "stdout",
     "output_type": "stream",
     "text": [
      "Model: \"ae_emualtor\"\n",
      "_________________________________________________________________\n",
      " Layer (type)                Output Shape              Param #   \n",
      "=================================================================\n",
      " dense_20 (Dense)            (None, 352)               2816      \n",
      "                                                                 \n",
      " dense_21 (Dense)            (None, 352)               124256    \n",
      "                                                                 \n",
      " dense_22 (Dense)            (None, 352)               124256    \n",
      "                                                                 \n",
      " dense_23 (Dense)            (None, 224)               79072     \n",
      "                                                                 \n",
      " dense_24 (Dense)            (None, 9)                 2025      \n",
      "                                                                 \n",
      "=================================================================\n",
      "Total params: 332,425\n",
      "Trainable params: 332,425\n",
      "Non-trainable params: 0\n",
      "_________________________________________________________________\n",
      "Model: \"auto_encoder_1\"\n",
      "_________________________________________________________________\n",
      " Layer (type)                Output Shape              Param #   \n",
      "=================================================================\n",
      " encoder (Sequential)        (None, 9)                 162281    \n",
      "                                                                 \n",
      " decoder (Sequential)        (1704, 451)               171139    \n",
      "                                                                 \n",
      "=================================================================\n",
      "Total params: 333,420\n",
      "Trainable params: 333,420\n",
      "Non-trainable params: 0\n",
      "_________________________________________________________________\n",
      "Model: \"encoder\"\n",
      "_________________________________________________________________\n",
      " Layer (type)                Output Shape              Param #   \n",
      "=================================================================\n",
      " dense_15 (Dense)            (None, 352)               159104    \n",
      "                                                                 \n",
      " dense_16 (Dense)            (None, 9)                 3177      \n",
      "                                                                 \n",
      "=================================================================\n",
      "Total params: 162,281\n",
      "Trainable params: 162,281\n",
      "Non-trainable params: 0\n",
      "_________________________________________________________________\n",
      "Model: \"decoder\"\n",
      "_________________________________________________________________\n",
      " Layer (type)                Output Shape              Param #   \n",
      "=================================================================\n",
      " dense_17 (Dense)            (1704, 32)                320       \n",
      "                                                                 \n",
      " dense_18 (Dense)            (1704, 352)               11616     \n",
      "                                                                 \n",
      " dense_19 (Dense)            (1704, 451)               159203    \n",
      "                                                                 \n",
      "=================================================================\n",
      "Total params: 171,139\n",
      "Trainable params: 171,139\n",
      "Non-trainable params: 0\n",
      "_________________________________________________________________\n"
     ]
    }
   ],
   "source": [
    "ae_em = VAE.emulator.AutoEncoderEmulator()\n",
    "ae_em.emulator.summary()\n",
    "ae_em.autoencoder.summary()\n",
    "ae_em.autoencoder.encoder.summary()\n",
    "ae_em.autoencoder.decoder.summary()"
   ]
  },
  {
   "cell_type": "code",
   "execution_count": 15,
   "metadata": {
    "scrolled": true
   },
   "outputs": [],
   "source": [
    "learning_rate = 0.01\n",
    "opt = tf.keras.optimizers.Adam(learning_rate)\n",
    "\n",
    "ae_loss_fcn = VAE.emulator.relative_mse_loss(ae_em.signal_train)  # loss function for training\n",
    "em_loss_fcn = tf.keras.metrics.mean_squared_error\n",
    "\n",
    "ae_em.autoencoder.compile(optimizer=opt, loss=ae_loss_fcn)\n",
    "ae_em.emulator.compile(optimizer=opt, loss=em_loss_fcn)"
   ]
  },
  {
   "cell_type": "code",
   "execution_count": 16,
   "metadata": {
    "scrolled": true
   },
   "outputs": [
    {
     "data": {
      "application/vnd.jupyter.widget-view+json": {
       "model_id": "fd6bcbf28b6144fba7e08350f1c6bdf2",
       "version_major": 2,
       "version_minor": 0
      },
      "text/plain": [
       "0epoch [00:00, ?epoch/s]"
      ]
     },
     "metadata": {},
     "output_type": "display_data"
    },
    {
     "data": {
      "application/vnd.jupyter.widget-view+json": {
       "model_id": "",
       "version_major": 2,
       "version_minor": 0
      },
      "text/plain": [
       "0batch [00:00, ?batch/s]"
      ]
     },
     "metadata": {},
     "output_type": "display_data"
    },
    {
     "data": {
      "application/vnd.jupyter.widget-view+json": {
       "model_id": "89bec3e035dc4bd998c8d36f141bf2c3",
       "version_major": 2,
       "version_minor": 0
      },
      "text/plain": [
       "0epoch [00:00, ?epoch/s]"
      ]
     },
     "metadata": {},
     "output_type": "display_data"
    },
    {
     "data": {
      "application/vnd.jupyter.widget-view+json": {
       "model_id": "",
       "version_major": 2,
       "version_minor": 0
      },
      "text/plain": [
       "0batch [00:00, ?batch/s]"
      ]
     },
     "metadata": {},
     "output_type": "display_data"
    },
    {
     "name": "stdout",
     "output_type": "stream",
     "text": [
      "\n",
      "Epoch 31: ReduceLROnPlateau reducing learning rate to 0.008999999798834325.\n",
      "\n",
      "Epoch 41: ReduceLROnPlateau reducing learning rate to 0.008099999651312828.\n",
      "\n",
      "Epoch 47: ReduceLROnPlateau reducing learning rate to 0.007289999350905419.\n",
      "\n",
      "Epoch 52: ReduceLROnPlateau reducing learning rate to 0.006560999248176813.\n",
      "\n",
      "Epoch 58: ReduceLROnPlateau reducing learning rate to 0.005904899490997195.\n",
      "\n",
      "Epoch 63: ReduceLROnPlateau reducing learning rate to 0.00531440949998796.\n",
      "\n",
      "Epoch 68: ReduceLROnPlateau reducing learning rate to 0.004782968759536744.\n",
      "\n",
      "Epoch 73: ReduceLROnPlateau reducing learning rate to 0.0043046717997640375.\n",
      "\n",
      "Epoch 81: ReduceLROnPlateau reducing learning rate to 0.0038742044940590858.\n",
      "\n",
      "Epoch 86: ReduceLROnPlateau reducing learning rate to 0.003486784128472209.\n",
      "\n",
      "Epoch 91: ReduceLROnPlateau reducing learning rate to 0.003138105757534504.\n",
      "\n",
      "Epoch 96: ReduceLROnPlateau reducing learning rate to 0.0028242952656000854.\n",
      "\n",
      "Epoch 101: ReduceLROnPlateau reducing learning rate to 0.0025418657809495927.\n",
      "\n",
      "Epoch 106: ReduceLROnPlateau reducing learning rate to 0.0022876791190356016.\n",
      "\n",
      "Epoch 111: ReduceLROnPlateau reducing learning rate to 0.0020589112071320416.\n",
      "\n",
      "Epoch 116: ReduceLROnPlateau reducing learning rate to 0.0018530200235545636.\n",
      "\n",
      "Epoch 121: ReduceLROnPlateau reducing learning rate to 0.0016677180421538651.\n",
      "\n",
      "Epoch 126: ReduceLROnPlateau reducing learning rate to 0.0015009462484158575.\n",
      "\n",
      "Epoch 131: ReduceLROnPlateau reducing learning rate to 0.0013508516130968928.\n",
      "Epoch 135: early stopping\n",
      "\n",
      "Epoch 17: ReduceLROnPlateau reducing learning rate to 0.0012157664517872036.\n",
      "\n",
      "Epoch 25: ReduceLROnPlateau reducing learning rate to 0.0010941897751763463.\n",
      "\n",
      "Epoch 30: ReduceLROnPlateau reducing learning rate to 0.0009847708395682275.\n",
      "\n",
      "Epoch 35: ReduceLROnPlateau reducing learning rate to 0.0008862937451340258.\n",
      "\n",
      "Epoch 40: ReduceLROnPlateau reducing learning rate to 0.0007976643915753812.\n",
      "\n",
      "Epoch 45: ReduceLROnPlateau reducing learning rate to 0.0007178979576565325.\n",
      "\n",
      "Epoch 50: ReduceLROnPlateau reducing learning rate to 0.0006461081618908793.\n",
      "\n",
      "Epoch 58: ReduceLROnPlateau reducing learning rate to 0.0005814973614178598.\n",
      "\n",
      "Epoch 63: ReduceLROnPlateau reducing learning rate to 0.0005233476462308317.\n",
      "\n",
      "Epoch 68: ReduceLROnPlateau reducing learning rate to 0.0004710128763690591.\n",
      "\n",
      "Epoch 73: ReduceLROnPlateau reducing learning rate to 0.0004239115834934637.\n",
      "\n",
      "Epoch 78: ReduceLROnPlateau reducing learning rate to 0.0003815204225247726.\n",
      "\n",
      "Epoch 83: ReduceLROnPlateau reducing learning rate to 0.0003433683828916401.\n",
      "\n",
      "Epoch 88: ReduceLROnPlateau reducing learning rate to 0.0003090315498411656.\n",
      "\n",
      "Epoch 93: ReduceLROnPlateau reducing learning rate to 0.00027812838961835954.\n",
      "\n",
      "Epoch 98: ReduceLROnPlateau reducing learning rate to 0.00025031555851455777.\n",
      "\n",
      "Epoch 103: ReduceLROnPlateau reducing learning rate to 0.00022528400004375725.\n",
      "\n",
      "Epoch 108: ReduceLROnPlateau reducing learning rate to 0.000202755605278071.\n",
      "\n",
      "Epoch 113: ReduceLROnPlateau reducing learning rate to 0.00018248004344059154.\n",
      "\n",
      "Epoch 118: ReduceLROnPlateau reducing learning rate to 0.00016423203778686004.\n",
      "Epoch 119: early stopping\n"
     ]
    }
   ],
   "source": [
    "# define callbacks (optional)\n",
    "early_stopping = tf.keras.callbacks.EarlyStopping(monitor=\"val_loss\", patience=15, min_delta=5e-10, verbose=1)\n",
    "reduce_lr = tf.keras.callbacks.ReduceLROnPlateau(\n",
    "    monitor=\"val_loss\", patience=5, factor=0.9, verbose=1, min_delta=5e-9, min_lr=1e-4\n",
    ")\n",
    "ae_cb = [early_stopping, reduce_lr]\n",
    "\n",
    "early_stopping = tf.keras.callbacks.EarlyStopping(monitor=\"val_loss\", patience=15, min_delta=5e-5, verbose=1)\n",
    "reduce_lr = tf.keras.callbacks.ReduceLROnPlateau(\n",
    "    monitor=\"val_loss\", patience=5, factor=0.9, verbose=1, min_delta=5e-3, min_lr=1e-4\n",
    ")\n",
    "em_cb = [early_stopping, reduce_lr]\n",
    "\n",
    "# train\n",
    "ae_loss, ae_val_loss, em_loss, em_val_loss = ae_em.train(epochs=350, ae_callbacks=ae_cb, em_callbacks=em_cb)"
   ]
  },
  {
   "cell_type": "code",
   "execution_count": 17,
   "metadata": {},
   "outputs": [
    {
     "data": {
      "image/png": "[encoded data removed]",
      "text/plain": [
       "<Figure size 432x288 with 2 Axes>"
      ]
     },
     "metadata": {
      "needs_background": "light"
     },
     "output_type": "display_data"
    }
   ],
   "source": [
    "fig = plt.figure()\n",
    "ax1 = fig.add_axes([0., 0., 1., 1.])\n",
    "ax1.plot(ae_loss, label='Training')\n",
    "ax1.plot(ae_val_loss, label='Validation')\n",
    "ax1.legend()\n",
    "ax1.set_title('AutoEncoder')\n",
    "ax1.set_ylabel('Loss')\n",
    "ax2 = fig.add_axes([1.1, 0., 1., 1.])\n",
    "ax2.plot(em_loss, label='Training')\n",
    "ax2.plot(em_val_loss, label='Validation')\n",
    "ax2.legend()\n",
    "ax2.set_title('Emulator')\n",
    "plt.setp([ax1, ax2], xlabel='Epoch', yscale='log')\n",
    "plt.show()"
   ]
  },
  {
   "cell_type": "code",
   "execution_count": 19,
   "metadata": {},
   "outputs": [
    {
     "name": "stdout",
     "output_type": "stream",
     "text": [
      "0.44957888\n"
     ]
    }
   ],
   "source": [
    "rmse = ae_em.test_error()\n",
    "print(rmse.mean())"
   ]
  }
 ],
 "metadata": {
  "kernelspec": {
   "display_name": "Python 3 (ipykernel)",
   "language": "python",
   "name": "python3"
  },
  "language_info": {
   "codemirror_mode": {
    "name": "ipython",
    "version": 3
   },
   "file_extension": ".py",
   "mimetype": "text/x-python",
   "name": "python",
   "nbconvert_exporter": "python",
   "pygments_lexer": "ipython3",
   "version": "3.8.10"
  }
 },
 "nbformat": 4,
 "nbformat_minor": 4
}
